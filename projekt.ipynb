{
 "cells": [
  {
   "cell_type": "code",
   "execution_count": 1,
   "id": "48a69be1-e0a7-456c-a0a1-f046abc9e97a",
   "metadata": {},
   "outputs": [],
   "source": [
    "import numpy as np\n",
    "import pylab\n",
    "from tqdm.notebook import tqdm\n",
    "import numpy as np\n",
    "import math\n",
    "import pandas as pd\n",
    "from multiprocessing import Pool\n",
    "from multiprocessing import cpu_count"
   ]
  },
  {
   "cell_type": "code",
   "execution_count": 2,
   "id": "a7605bd0-d654-421f-ad1b-7c9a3a1fe282",
   "metadata": {},
   "outputs": [],
   "source": [
    "data = pd.read_csv('/Users/weronikasadzik/Downloads/archive (4)/monthly_csv.csv', index_col=0)"
   ]
  },
  {
   "cell_type": "markdown",
   "id": "87e09211-ede9-43f0-9072-746a57785eb1",
   "metadata": {},
   "source": [
    "# Model Blacka-Scholesa"
   ]
  },
  {
   "cell_type": "markdown",
   "id": "31194af3-366c-44a8-b6da-cb062c5395f3",
   "metadata": {},
   "source": [
    "Równanie Blacka-Scholesa:\n",
    "\n",
    "$dX(t) = \\mu X(t) dt + \\sigma X(t) d W_t$\n",
    "\n",
    "$X(t)$ - cena akcji w t-tym momencie\n",
    "\n",
    "$t\\in [0;T]$, $\\mu \\in \\mathbb{R}$ (współczynnik dryfu), $\\sigma > 0$ (współczynnik dyfuzji)\n",
    "\n",
    "$W_t$ - proces Wienera"
   ]
  },
  {
   "cell_type": "markdown",
   "id": "be4c41f9-a022-43ac-9820-e2c9d8fda8e0",
   "metadata": {
    "tags": []
   },
   "source": [
    "## Estymacja parametrów $\\mu, \\sigma$ metodą największej wiarygodności"
   ]
  },
  {
   "cell_type": "code",
   "execution_count": 380,
   "id": "e0f373ee-cbad-4bd8-9e11-e2578f09af63",
   "metadata": {},
   "outputs": [],
   "source": [
    "def estimate_parameters_mle(f, g, x):\n",
    "    f_min = np.inf\n",
    "    a = np.linspace(0.0, 0.1, 1001)\n",
    "    b = np.linspace(0.0, 1.0, 1001)\n",
    "    for th1 in tqdm(a[1:]):\n",
    "        for th2 in b[1:]:\n",
    "            f_log = 0.0\n",
    "            for j in range(1, 47):\n",
    "                f_res = f(th1, x[j])\n",
    "                g_res = g(th2, x[j])\n",
    "                mu = x[j] + f_res\n",
    "                sigma = g_res\n",
    "                temp = -(x[j+1] - mu) ** 2 / (2.0 * sigma**2) - np.log(np.sqrt(2.0 * np.pi * sigma**2))\n",
    "                f_log -= temp\n",
    "            if f_log < f_min:\n",
    "                f_min = f_log\n",
    "                th1min = th1\n",
    "                th2min = th2\n",
    "\n",
    "    print(f\"mu: {th1min}, sigma: {th2min}, f_min: {f_min}\")"
   ]
  },
  {
   "cell_type": "code",
   "execution_count": null,
   "id": "9ccc945a-9393-4584-8459-4da6194e92b6",
   "metadata": {},
   "outputs": [],
   "source": [
    "x = data.values\n",
    "x = [val[0] for val in x]\n",
    "x = np.array([0, 18, 22, 26, 16, 19, 21, 18, 22, 25, 31, 30, 34, 31, 25, 21, 24, 21, 28, 24, 26, 32,\n",
    "              33, 36, 39, 32, 33, 42, 44, 43, 48, 50, 56, 57, 59, 51, 49, 49, 57, 69, 72, 75, 76,\n",
    "              78, 73, 73, 75, 86], dtype=np.float32)\n",
    "\n",
    "f = lambda theta, x: theta * x\n",
    "g = lambda theta, x: np.sqrt(theta * x)\n",
    "estimate_parameters_mle(f, g, x)"
   ]
  },
  {
   "cell_type": "markdown",
   "id": "c5990628-4e5e-4068-a4b2-5a4d4a5cd721",
   "metadata": {},
   "source": [
    "## Test Goodness-of-Fit"
   ]
  },
  {
   "cell_type": "code",
   "execution_count": 379,
   "id": "497a6f52-5e47-4178-9a18-b5174e3226ea",
   "metadata": {},
   "outputs": [
    {
     "name": "stdout",
     "output_type": "stream",
     "text": [
      "Chi-square statistic: 17.623619655198606\n",
      "P-value: 0.007244955698245388\n",
      "Result: Goodness-of-fit\n"
     ]
    }
   ],
   "source": [
    "import numpy as np\n",
    "import math\n",
    "from scipy.stats import chi2_contingency\n",
    "from concurrent.futures import ThreadPoolExecutor\n",
    "\n",
    "def simulate_data(SDE_model, x_prev, num_simulations):\n",
    "    simulated_data = np.zeros(num_simulations)\n",
    "    dt = 1  # Time step size\n",
    "    f, g = SDE_model(x_prev)  # Function parameters of the SDE model\n",
    "    \n",
    "    for j in range(num_simulations):\n",
    "        rand1 = np.random.normal(0, 1)\n",
    "        x = x_prev + f * dt + math.sqrt(dt) * g * rand1\n",
    "        simulated_data[j] = x\n",
    "    \n",
    "    return simulated_data\n",
    "\n",
    "def goodness_of_fit_test(observed_data, SDE_model, num_simulations):\n",
    "    # Generate simulated data based on the SDE model\n",
    "    simulated_data = np.zeros_like(observed_data)\n",
    "    with ThreadPoolExecutor() as executor:\n",
    "        for i in range(1, len(observed_data)):\n",
    "            x_prev = observed_data[i-1]\n",
    "            simulated_data[i] = np.mean(list(executor.submit(simulate_data, SDE_model, x_prev, num_simulations).result()))\n",
    "    \n",
    "    # Calculate observed and expected frequencies\n",
    "    observed_freq = np.histogram(observed_data, bins='auto')[0]\n",
    "    expected_freq = np.histogram(simulated_data, bins='auto')[0]\n",
    "    \n",
    "    # Pad the smaller array with zeros to make both arrays have the same size\n",
    "    max_size = max(len(observed_freq), len(expected_freq))\n",
    "    observed_freq = np.pad(observed_freq, (0, max_size - len(observed_freq)))\n",
    "    expected_freq = np.pad(expected_freq, (0, max_size - len(expected_freq)))\n",
    "    \n",
    "    # Perform chi-squared test\n",
    "    contingency_table = np.vstack((observed_freq, expected_freq))\n",
    "    chi2_stat, p_value = chi2_contingency(contingency_table)[:2]  # Take only the first two elements of the returned tuple\n",
    "    \n",
    "    # Determine if the model has goodness-of-fit or lack-of-fit\n",
    "    threshold = 0.005  # Significance level\n",
    "    if p_value < threshold:\n",
    "        result = \"Lack-of-fit\"\n",
    "    else:\n",
    "        result = \"Goodness-of-fit\"\n",
    "    \n",
    "    return chi2_stat, p_value, result\n",
    "\n",
    "# Example usage:\n",
    "observed_data = np.array([18, 22, 26, 16, 19, 21, 18, 22, 25, 31, 30, 34, 31, 25, 21, 24, 21, 28, 24, 26, 32, 33, 36, 39, 32,\n",
    "          33, 42, 44, 43, 48, 50, 56, 57, 59, 51, 49, 49, 57, 69, 72, 75, 76, 78, 73, 73, 75, 86])\n",
    "\n",
    "# Define the SDE model function\n",
    "def SDE_model(x):\n",
    "    th1 = .0361\n",
    "    th2 = 0.69\n",
    "    f = th1 * x\n",
    "    g = math.sqrt(th2 * x)\n",
    "    return f, g\n",
    "\n",
    "num_simulations = 10000\n",
    "\n",
    "# Perform the goodness-of-fit test\n",
    "chi2_stat, p_value, result = goodness_of_fit_test(observed_data, SDE_model, num_simulations)\n",
    "\n",
    "print(\"Chi-square statistic:\", chi2_stat)\n",
    "print(\"P-value:\", p_value)\n",
    "print(\"Result:\", result)"
   ]
  },
  {
   "cell_type": "code",
   "execution_count": null,
   "id": "aea79d82-ece1-4d15-99c7-21d365ecc46c",
   "metadata": {},
   "outputs": [],
   "source": []
  }
 ],
 "metadata": {
  "kernelspec": {
   "display_name": "Python 3 (ipykernel)",
   "language": "python",
   "name": "python3"
  },
  "language_info": {
   "codemirror_mode": {
    "name": "ipython",
    "version": 3
   },
   "file_extension": ".py",
   "mimetype": "text/x-python",
   "name": "python",
   "nbconvert_exporter": "python",
   "pygments_lexer": "ipython3",
   "version": "3.9.15"
  }
 },
 "nbformat": 4,
 "nbformat_minor": 5
}
