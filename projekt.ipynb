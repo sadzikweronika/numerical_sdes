{
 "cells": [
  {
   "cell_type": "code",
   "execution_count": 1,
   "id": "48a69be1-e0a7-456c-a0a1-f046abc9e97a",
   "metadata": {},
   "outputs": [],
   "source": [
    "import numpy as np\n",
    "import pylab\n",
    "from tqdm.notebook import tqdm\n",
    "import numpy as np\n",
    "import math\n",
    "import pandas as pd\n",
    "from multiprocessing import Pool\n",
    "from multiprocessing import cpu_count"
   ]
  },
  {
   "cell_type": "code",
   "execution_count": 2,
   "id": "a7605bd0-d654-421f-ad1b-7c9a3a1fe282",
   "metadata": {},
   "outputs": [],
   "source": [
    "data = pd.read_csv('/Users/weronikasadzik/Downloads/archive (4)/monthly_csv.csv', index_col=0)"
   ]
  },
  {
   "cell_type": "markdown",
   "id": "87e09211-ede9-43f0-9072-746a57785eb1",
   "metadata": {},
   "source": [
    "# Model Blacka-Scholesa"
   ]
  },
  {
   "cell_type": "markdown",
   "id": "31194af3-366c-44a8-b6da-cb062c5395f3",
   "metadata": {},
   "source": [
    "Równanie Blacka-Scholesa:\n",
    "\n",
    "$dX(t) = \\mu X(t) dt + \\sigma X(t) d W_t$\n",
    "\n",
    "$X(t)$ - cena akcji w t-tym momencie\n",
    "\n",
    "$t\\in [0;T]$, $\\mu \\in \\mathbb{R}$ (współczynnik dryfu), $\\sigma > 0$ (współczynnik dyfuzji)\n",
    "\n",
    "$W_t$ - proces Wienera"
   ]
  },
  {
   "cell_type": "markdown",
   "id": "be4c41f9-a022-43ac-9820-e2c9d8fda8e0",
   "metadata": {
    "jp-MarkdownHeadingCollapsed": true,
    "tags": []
   },
   "source": [
    "## Estymacja parametrów $\\mu, \\sigma$ metodą największej wiarygodności"
   ]
  },
  {
   "cell_type": "code",
   "execution_count": 81,
   "id": "e0f373ee-cbad-4bd8-9e11-e2578f09af63",
   "metadata": {},
   "outputs": [],
   "source": [
    "def estimate_parameters_mle(f, g, x):\n",
    "    f_min = np.inf\n",
    "    a = np.linspace(0.0, 0.1, 1001)\n",
    "    b = np.linspace(0.0, 1.0, 1001)\n",
    "    for th1 in tqdm(a[1:]):\n",
    "        for th2 in b[1:]:\n",
    "            f_log = 0.0\n",
    "            for j in range(1, 47):\n",
    "                f_res = f(th1, x[j])\n",
    "                g_res = g(th2, x[j])\n",
    "                mu = x[j] + f_res\n",
    "                sigma = g_res\n",
    "                temp = -(x[j+1] - mu) ** 2 / (2.0 * sigma**2) - np.log(np.sqrt(2.0 * np.pi * sigma**2))\n",
    "                f_log -= temp\n",
    "            if f_log < f_min:\n",
    "                f_min = f_log\n",
    "                th1min = th1\n",
    "                th2min = th2\n",
    "\n",
    "    print(f\"mu: {th1min}, sigma: {th2min}, f_min: {f_min}\")"
   ]
  },
  {
   "cell_type": "code",
   "execution_count": 87,
   "id": "9ccc945a-9393-4584-8459-4da6194e92b6",
   "metadata": {},
   "outputs": [
    {
     "data": {
      "text/plain": [
       "<multiprocessing.pool.MapResult at 0x7fec80a01ee0>"
      ]
     },
     "execution_count": 87,
     "metadata": {},
     "output_type": "execute_result"
    },
    {
     "name": "stderr",
     "output_type": "stream",
     "text": [
      "Process SpawnPoolWorker-1:\n",
      "Traceback (most recent call last):\n",
      "  File \"/Users/weronikasadzik/opt/anaconda3/lib/python3.9/multiprocessing/process.py\", line 315, in _bootstrap\n",
      "    self.run()\n",
      "  File \"/Users/weronikasadzik/opt/anaconda3/lib/python3.9/multiprocessing/process.py\", line 108, in run\n",
      "    self._target(*self._args, **self._kwargs)\n",
      "  File \"/Users/weronikasadzik/opt/anaconda3/lib/python3.9/multiprocessing/pool.py\", line 114, in worker\n",
      "    task = get()\n",
      "  File \"/Users/weronikasadzik/opt/anaconda3/lib/python3.9/multiprocessing/queues.py\", line 367, in get\n",
      "    return _ForkingPickler.loads(res)\n",
      "AttributeError: Can't get attribute 'estimate_parameters_mle' on <module '__main__' (built-in)>\n"
     ]
    }
   ],
   "source": [
    "x = data.values\n",
    "x = [val[0] for val in x]\n",
    "x = np.array([0, 18, 22, 26, 16, 19, 21, 18, 22, 25, 31, 30, 34, 31, 25, 21, 24, 21, 28, 24, 26, 32,\n",
    "              33, 36, 39, 32, 33, 42, 44, 43, 48, 50, 56, 57, 59, 51, 49, 49, 57, 69, 72, 75, 76,\n",
    "              78, 73, 73, 75, 86], dtype=np.float32)\n",
    "\n",
    "f = lambda theta, x: theta * x\n",
    "g = lambda theta, x: np.sqrt(theta * x)\n",
    "estimate_parameters_mle(f, g, x)"
   ]
  },
  {
   "cell_type": "code",
   "execution_count": 72,
   "id": "c592f6c9-64ae-4a52-a982-6fe631d42abe",
   "metadata": {},
   "outputs": [
    {
     "data": {
      "application/vnd.jupyter.widget-view+json": {
       "model_id": "56e8f6e6601b41e7b107548bf76a28cc",
       "version_major": 2,
       "version_minor": 0
      },
      "text/plain": [
       "  0%|          | 0/1000 [00:00<?, ?it/s]"
      ]
     },
     "metadata": {},
     "output_type": "display_data"
    },
    {
     "name": "stdout",
     "output_type": "stream",
     "text": [
      "th1min: 0.03610000000000001, th2min: 0.6090000000000004, fmin: 136.7815779756769\n"
     ]
    }
   ],
   "source": [
    "x = np.array([0, 18, 22, 26, 16, 19, 21, 18, 22, 25, 31, 30, 34, 31, 25, 21, 24, 21, 28, 24, 26, 32,\n",
    "              33, 36, 39, 32, 33, 42, 44, 43, 48, 50, 56, 57, 59, 51, 49, 49, 57, 69, 72, 75, 76,\n",
    "              78, 73, 73, 75, 86], dtype=np.float32)\n",
    "fmin = 1000000.0\n",
    "\n",
    "a1 = 0.0\n",
    "a2 = 0.1\n",
    "ha = (a2 - a1) / 1000\n",
    "\n",
    "b1 = 0.0\n",
    "b2 = 1.0\n",
    "hb = (b2 - b1) / 1000\n",
    "\n",
    "th1 = a1\n",
    "for ia in tqdm(range(1, 1001)):\n",
    "    th1 += ha\n",
    "    th2 = b1\n",
    "    for ib in range(1, 1001):\n",
    "        th2 += hb\n",
    "        flog = 0.0\n",
    "        for j in range(1, 47):\n",
    "            def functs(x, th1, th2):\n",
    "                f = th1 * x\n",
    "                g = math.sqrt(th2 * x)\n",
    "                return f, g\n",
    "            f, g = functs(x[j], th1, th2)\n",
    "            amu = x[j] + f\n",
    "            sig = g\n",
    "            hlp1 = math.log(math.sqrt(2.0 * math.pi * sig * sig))\n",
    "            hlp2 = -(x[j + 1] - amu) ** 2 / (2.0 * sig * sig) - hlp1\n",
    "            flog -= hlp2\n",
    "\n",
    "        if flog > fmin:\n",
    "            continue\n",
    "\n",
    "        fmin = flog\n",
    "        th1min = th1\n",
    "        th2min = th2\n",
    "\n",
    "print(f\"th1min: {th1min}, th2min: {th2min}, fmin: {fmin}\")"
   ]
  },
  {
   "cell_type": "code",
   "execution_count": 67,
   "id": "d7604e99-9b35-4d29-9c03-abf97957f36a",
   "metadata": {},
   "outputs": [
    {
     "data": {
      "application/vnd.jupyter.widget-view+json": {
       "model_id": "00c7165d779c478e9355aadecac61684",
       "version_major": 2,
       "version_minor": 0
      },
      "text/plain": [
       "  0%|          | 0/1000 [00:00<?, ?it/s]"
      ]
     },
     "metadata": {},
     "output_type": "display_data"
    },
    {
     "name": "stdout",
     "output_type": "stream",
     "text": [
      "th1min: 0.03610000000000001, th2min: 0.6090000000000004, fmin: 136.7815779756769\n"
     ]
    }
   ],
   "source": [
    "import numpy as np\n",
    "import math\n",
    "\n",
    "x = np.array([0, 18, 22, 26, 16, 19, 21, 18, 22, 25, 31, 30, 34, 31, 25, 21, 24, 21, 28, 24, 26, 32,\n",
    "              33, 36, 39, 32, 33, 42, 44, 43, 48, 50, 56, 57, 59, 51, 49, 49, 57, 69, 72, 75, 76,\n",
    "              78, 73, 73, 75, 86], dtype=np.float32)\n",
    "\n",
    "np = 47\n",
    "fmin = 1000000.0\n",
    "\n",
    "a1 = 0.0\n",
    "a2 = 0.1\n",
    "da = (a2 - a1) / 1000\n",
    "\n",
    "b1 = 0.0\n",
    "b2 = 1.0\n",
    "db = (b2 - b1) / 1000\n",
    "\n",
    "th1 = a1\n",
    "for ia in tqdm(range(1, 1001)):\n",
    "    th1 += da\n",
    "    th2 = b1\n",
    "    for ib in range(1, 1001):\n",
    "        th2 += db\n",
    "        flog = 0.0\n",
    "        for j in range(1, 47):\n",
    "            def functs(x, th1, th2):\n",
    "                f = th1 * x\n",
    "                g = math.sqrt(th2 * x)\n",
    "                return f, g\n",
    "\n",
    "            f, g = functs(x[j], th1, th2)\n",
    "            amu = x[j] + f\n",
    "            sig = g\n",
    "            hlp1 = math.log(math.sqrt(2.0 * math.pi * sig * sig))\n",
    "            hlp2 = -(x[j + 1] - amu) ** 2 / (2.0 * sig * sig) - hlp1\n",
    "            flog -= hlp2\n",
    "\n",
    "        if flog > fmin:\n",
    "            continue\n",
    "\n",
    "        fmin = flog\n",
    "        th1min = th1\n",
    "        th2min = th2\n",
    "\n",
    "print(f\"th1min: {th1min}, th2min: {th2min}, fmin: {fmin}\")\n"
   ]
  },
  {
   "cell_type": "markdown",
   "id": "c5990628-4e5e-4068-a4b2-5a4d4a5cd721",
   "metadata": {},
   "source": [
    "## Test Goodness-of-Fit"
   ]
  },
  {
   "cell_type": "code",
   "execution_count": 7,
   "id": "f951a852-e7bf-4c67-9816-4cd4eb65745f",
   "metadata": {},
   "outputs": [
    {
     "name": "stdout",
     "output_type": "stream",
     "text": [
      "      1    352.20\n",
      "      2    352.20\n"
     ]
    }
   ],
   "source": [
    "import numpy as np\n",
    "import math\n",
    "\n",
    "# Initialize arrays\n",
    "x = np.zeros(50)\n",
    "xc = np.zeros((50, 20))\n",
    "omega = np.zeros(50)\n",
    "ir = np.zeros(50, dtype=int)\n",
    "\n",
    "# This code tests goodness of fit.\n",
    "n = 47\n",
    "\n",
    "# The method of Bak, Nielsen, and Madsen is used.\n",
    "x[:47] = [18, 22, 26, 16, 19, 21, 18, 22, 25, 31, 30, 34, 31, 25, 21, 24, 21, 28, 24, 26, 32, 33, 36, 39, 32, 33, 42, 44, 43, 48, 50, 56, 57, 59, 51, 49, 49, 57, 69, 72, 75, 76, 78, 73, 73, 75, 86]\n",
    "def functs(icase, x):\n",
    "    th1 = 3510.0\n",
    "    th2 = 13500.0\n",
    "    f = th1 / (x*x)\n",
    "    g = th2 / (x*x)\n",
    "    if icase == 1:\n",
    "        return f, g\n",
    "    th1 = .0361\n",
    "    th2 = .6090\n",
    "    f = th1 * x\n",
    "    g = math.sqrt(th2 * x)\n",
    "    return f, g\n",
    "\n",
    "\n",
    "def random(xx):\n",
    "    np.random.seed(int(xx))\n",
    "    u1, u2 = np.random.uniform(size=2)\n",
    "    u1 += 1e-10  # Add a small constant to avoid log(0)\n",
    "    hlp = math.sqrt(-2.0 * math.log(u1))\n",
    "    rand1 = hlp * math.cos(math.pi * 2.0 * u2)\n",
    "    rand2 = hlp * math.sin(math.pi * 2.0 * u2)\n",
    "    return rand1, rand2\n",
    "\n",
    "for icase in range(1, 3):\n",
    "    # Parameter icase =1 or 2 denotes SDE model 1 or 2.\n",
    "    xx = 102038.\n",
    "    m = 8\n",
    "    h = 1.0\n",
    "    omega[:m+2] = 0.0\n",
    "    kk = 4\n",
    "    akk = kk\n",
    "    h /= akk\n",
    "    for i in range(2, n):\n",
    "        xs = x[i-1]\n",
    "        xe = x[i]\n",
    "        for j in range(1, m+1):\n",
    "            xk = xs\n",
    "            for k in range(1, kk+1):\n",
    "                f, g = functs(icase, xk)\n",
    "                rand1, rand2 = random(xx)\n",
    "                xk += h*f + math.sqrt(h)*g*rand1\n",
    "            xc[i, j] = xk\n",
    "        irr = 1\n",
    "        for j in range(1, m+1):\n",
    "            xe = x[i]\n",
    "            xcalc = xc[i, j]\n",
    "            if xe > xcalc:\n",
    "                irr += 1\n",
    "        ir[i] = irr\n",
    "    for i in range(2, n):\n",
    "        irr = ir[i]\n",
    "        omega[irr] += 1.0\n",
    "    chi2 = 0.0\n",
    "    an = n\n",
    "    am = m\n",
    "    hlp = (an-1.0) / (am+1.0)\n",
    "    for j in range(1, m+2):\n",
    "        chi2 += (omega[j] - hlp)**2 / hlp\n",
    "    print(f'{icase:7d} {chi2:9.2f}')"
   ]
  },
  {
   "cell_type": "code",
   "execution_count": 105,
   "id": "a51837ea-9c82-433c-b851-48705a81330c",
   "metadata": {},
   "outputs": [
    {
     "name": "stdout",
     "output_type": "stream",
     "text": [
      "      1    279.04\n",
      "      2    227.57\n"
     ]
    }
   ],
   "source": [
    "u1 = rng[0]"
   ]
  },
  {
   "cell_type": "code",
   "execution_count": 118,
   "id": "b8ce4bac-8bda-422e-8ee9-61bc0a3ef470",
   "metadata": {},
   "outputs": [
    {
     "ename": "NameError",
     "evalue": "name 'rng' is not defined",
     "output_type": "error",
     "traceback": [
      "\u001b[0;31m---------------------------------------------------------------------------\u001b[0m",
      "\u001b[0;31mNameError\u001b[0m                                 Traceback (most recent call last)",
      "Cell \u001b[0;32mIn[118], line 1\u001b[0m\n\u001b[0;32m----> 1\u001b[0m u1 \u001b[38;5;241m=\u001b[39m \u001b[43mrng\u001b[49m[\u001b[38;5;241m0\u001b[39m]\n",
      "\u001b[0;31mNameError\u001b[0m: name 'rng' is not defined"
     ]
    }
   ],
   "source": [
    "u1 = rng[0]"
   ]
  },
  {
   "cell_type": "code",
   "execution_count": null,
   "id": "919456ae-3c59-4c13-92a5-8ae1815de4a0",
   "metadata": {},
   "outputs": [],
   "source": [
    "import numpy as np\n",
    "import math\n",
    "\n",
    "# Initialize arrays\n",
    "x = np.zeros(50)\n",
    "xc = np.zeros((50, 20))\n",
    "omega = np.zeros(50)\n",
    "ir = np.zeros(50, dtype=int)\n",
    "\n",
    "# This code tests goodness of fit.\n",
    "n = 47\n",
    "\n",
    "# The method of Bak, Nielsen, and Madsen is used.\n",
    "x[:47] = [18, 22, 26, 16, 19, 21, 18, 22, 25, 31, 30, 34, 31, 25, 21, 24, 21, 28, 24, 26, 32, 33, 36, 39, 32, 33, 42, 44, 43, 48, 50, 56, 57, 59, 51, 49, 49, 57, 69, 72, 75, 76, 78, 73, 73, 75, 86]\n",
    "\n",
    "for icase in range(1, 3):\n",
    "    # Parameter icase =1 or 2 denotes SDE model 1 or 2.\n",
    "    xx = 102038.\n",
    "    m = 8\n",
    "    h = 1.0\n",
    "    omega[:m+2] = 0.0\n",
    "    kk = 4\n",
    "    akk = kk\n",
    "    h /= akk\n",
    "    for i in range(2, n):\n",
    "        xs = x[i-1]\n",
    "        xe = x[i]\n",
    "        for j in range(1, m+1):\n",
    "            xk = xs\n",
    "            for k in range(1, kk+1):\n",
    "                f, g = functs(icase, xk)\n",
    "                rand1, rand2 = random(xx)\n",
    "                xk += h*f + math.sqrt(h)*g*rand1\n",
    "            xc[i, j] = xk\n",
    "        irr = 1\n",
    "        for j in range(1, m+1):\n",
    "            xe = x[i]\n",
    "            xcalc = xc[i, j]\n",
    "            if xe > xcalc:\n",
    "                irr += 1\n",
    "        ir[i] = irr\n",
    "    for i in range(2, n):\n",
    "        irr = ir[i]\n",
    "        omega[irr] += 1.0\n",
    "    chi2 = 0.0\n",
    "    an = n\n",
    "    am = m\n",
    "    hlp = (an-1.0) / (am+1.0)\n",
    "    for j in range(1, m+2):\n",
    "        chi2 += (omega[j] - hlp)**2 / hlp\n",
    "    print(f'{icase:7d} {chi2:9.2f}')\n",
    "\n",
    "\n",
    "def functs(icase, x):\n",
    "    th1 = 3510.0\n",
    "    th2 = 13500.0\n",
    "    f = th1 / (x*x)\n",
    "    g = th2 / (x*x)\n",
    "    if icase == 1:\n",
    "        return f, g\n",
    "    th1 = .0361\n",
    "    th2 = .6090\n",
    "    f = th1 * x\n",
    "    g = math.sqrt(th2 * x)\n",
    "    return f, g\n",
    "\n",
    "\n",
    "def random(xx):\n",
    "    a = 16807.\n",
    "    ib = 2147483647\n",
    "    b = ib\n",
    "    rng = np.zeros(2)\n",
    "    for i in range(2):\n",
    "        id = a * xx / b\n",
    "        d = id\n",
    "        xx = a * xx - d * b\n",
    "        rng[i] = xx / b\n",
    "    pi = 3.141592654\n",
    "    u1 = rng[0]\n",
    "    u2 = rng[1]\n",
    "    hlp = math.sqrt(-2.0 * math.log(u1))\n",
    "    rand1 = hlp * math.cos(pi * 2.0 * u2)\n",
    "    rand2 = hlp * math.sin(pi * 2.0 * u2)\n",
    "    return rand1, rand2"
   ]
  },
  {
   "cell_type": "code",
   "execution_count": 112,
   "id": "a47bda43-a923-4b27-92d6-71b54ff5851b",
   "metadata": {},
   "outputs": [
    {
     "name": "stdout",
     "output_type": "stream",
     "text": [
      "      1    274.09\n",
      "      2    227.13\n"
     ]
    }
   ],
   "source": [
    "import numpy as np\n",
    "\n",
    "def functs(icase, x):\n",
    "    th1 = 3510.0\n",
    "    th2 = 13500.0\n",
    "    f = th1 / (x * x)\n",
    "    g = th2 / (x * x)\n",
    "    if icase == 1:\n",
    "        return f, g\n",
    "    th1 = 0.0361\n",
    "    th2 = 0.6090\n",
    "    f = th1 * x\n",
    "    g = np.sqrt(th2 * x)\n",
    "    return f, g\n",
    "\n",
    "def random_gen(xx):\n",
    "    a = 16807.0\n",
    "    ib = 2147483647\n",
    "    b = ib\n",
    "    rng = np.zeros(2)\n",
    "    for i in range(2):\n",
    "        id_ = a * xx / b\n",
    "        d = np.floor(id_)\n",
    "        xx = a * xx - d * b\n",
    "        rng[i] = xx / b\n",
    "    pi = 3.141592654\n",
    "    u1 = rng[0]\n",
    "    u2 = rng[1]\n",
    "    hlp = np.sqrt(-2.0 * np.log(u1))\n",
    "    rand1 = hlp * np.cos(pi * 2.0 * u2)\n",
    "    rand2 = hlp * np.sin(pi * 2.0 * u2)\n",
    "    return rand1, rand2\n",
    "\n",
    "n = 47\n",
    "x = np.array([18, 22, 26, 16, 19, 21, 18, 22, 25, 31, 30, 34, 31, 25, 21, 24, 21, 28, 24, 26, 32,\n",
    "              33, 36, 39, 32, 33, 42, 44, 43, 48, 50, 56, 57, 59, 51, 49, 49, 57, 69, 72, 75, 76, 78, 73, 73, 75, 86])\n",
    "\n",
    "xc = np.zeros((n, 8))\n",
    "omega = np.zeros(50)\n",
    "ir = np.zeros(n)\n",
    "xx = 102038.0\n",
    "\n",
    "for icase in range(1, 3):\n",
    "    m = 8\n",
    "    h = 1.0\n",
    "    omega[:] = 0.0\n",
    "    kk = 4\n",
    "    akk = kk\n",
    "    h = h / akk\n",
    "\n",
    "    for i in range(2, n + 1):\n",
    "        xs = x[i - 2]\n",
    "        xe = x[i - 1]\n",
    "        for j in range(m):\n",
    "            xk = xs\n",
    "            for k in range(kk):\n",
    "                f, g = functs(icase, xk)\n",
    "                rand1, _ = random_gen(xx)\n",
    "                xk = xk + h * f + np.sqrt(h) * g * rand1\n",
    "            xc[i - 1, j] = xk\n",
    "\n",
    "    for i in range(2, n + 1):\n",
    "        irr = 1\n",
    "        for j in range(m):\n",
    "            xe = x[i - 1]\n",
    "            xcalc = xc[i - 1, j]\n",
    "            if xe > xcalc:\n",
    "                irr = irr + 1\n",
    "        ir[i - 1] = irr\n",
    "\n",
    "    for i in range(2, n + 1):\n",
    "        irr = int(ir[i - 1])\n",
    "        omega[irr - 1] += 1.0\n",
    "\n",
    "    chi2 = 0.0\n",
    "    an = n\n",
    "    am = m\n",
    "    hlp = (an - 1.0) / (am + 1.0)\n",
    "    for j in range(m + 1):\n",
    "        chi2 = chi2 + ((omega[j] - hlp) ** 2) / hlp\n",
    "    print(f\"{icase:7} {chi2:9.2f}\")\n"
   ]
  },
  {
   "cell_type": "code",
   "execution_count": 119,
   "id": "f0b0d4b0-1a9a-4240-9436-7d367f214cb2",
   "metadata": {},
   "outputs": [
    {
     "ename": "ValueError",
     "evalue": "math domain error",
     "output_type": "error",
     "traceback": [
      "\u001b[0;31m---------------------------------------------------------------------------\u001b[0m",
      "\u001b[0;31mValueError\u001b[0m                                Traceback (most recent call last)",
      "Cell \u001b[0;32mIn[119], line 32\u001b[0m\n\u001b[1;32m     30\u001b[0m \u001b[38;5;28;01mfor\u001b[39;00m k \u001b[38;5;129;01min\u001b[39;00m \u001b[38;5;28mrange\u001b[39m(\u001b[38;5;241m1\u001b[39m, kk\u001b[38;5;241m+\u001b[39m\u001b[38;5;241m1\u001b[39m):\n\u001b[1;32m     31\u001b[0m     f, g \u001b[38;5;241m=\u001b[39m functs(icase, xk)\n\u001b[0;32m---> 32\u001b[0m     rand1, rand2 \u001b[38;5;241m=\u001b[39m \u001b[43mrandom\u001b[49m\u001b[43m(\u001b[49m\u001b[43mxx\u001b[49m\u001b[43m)\u001b[49m\n\u001b[1;32m     33\u001b[0m     xk \u001b[38;5;241m+\u001b[39m\u001b[38;5;241m=\u001b[39m h\u001b[38;5;241m*\u001b[39mf \u001b[38;5;241m+\u001b[39m math\u001b[38;5;241m.\u001b[39msqrt(h)\u001b[38;5;241m*\u001b[39mg\u001b[38;5;241m*\u001b[39mrand1\n\u001b[1;32m     34\u001b[0m xc[i, j] \u001b[38;5;241m=\u001b[39m xk\n",
      "Cell \u001b[0;32mIn[113], line 81\u001b[0m, in \u001b[0;36mrandom\u001b[0;34m(xx)\u001b[0m\n\u001b[1;32m     79\u001b[0m u1 \u001b[38;5;241m=\u001b[39m rng[\u001b[38;5;241m0\u001b[39m]\n\u001b[1;32m     80\u001b[0m u2 \u001b[38;5;241m=\u001b[39m rng[\u001b[38;5;241m1\u001b[39m]\n\u001b[0;32m---> 81\u001b[0m hlp \u001b[38;5;241m=\u001b[39m math\u001b[38;5;241m.\u001b[39msqrt(\u001b[38;5;241m-\u001b[39m\u001b[38;5;241m2.0\u001b[39m \u001b[38;5;241m*\u001b[39m \u001b[43mmath\u001b[49m\u001b[38;5;241;43m.\u001b[39;49m\u001b[43mlog\u001b[49m\u001b[43m(\u001b[49m\u001b[43mu1\u001b[49m\u001b[43m)\u001b[49m)\n\u001b[1;32m     82\u001b[0m rand1 \u001b[38;5;241m=\u001b[39m hlp \u001b[38;5;241m*\u001b[39m math\u001b[38;5;241m.\u001b[39mcos(pi \u001b[38;5;241m*\u001b[39m \u001b[38;5;241m2.0\u001b[39m \u001b[38;5;241m*\u001b[39m u2)\n\u001b[1;32m     83\u001b[0m rand2 \u001b[38;5;241m=\u001b[39m hlp \u001b[38;5;241m*\u001b[39m math\u001b[38;5;241m.\u001b[39msin(pi \u001b[38;5;241m*\u001b[39m \u001b[38;5;241m2.0\u001b[39m \u001b[38;5;241m*\u001b[39m u2)\n",
      "\u001b[0;31mValueError\u001b[0m: math domain error"
     ]
    }
   ],
   "source": [
    "import numpy as np\n",
    "import math\n",
    "\n",
    "# Initialize arrays\n",
    "x = np.zeros(50)\n",
    "xc = np.zeros((50, 20))\n",
    "omega = np.zeros(50)\n",
    "ir = np.zeros(50, dtype=int)\n",
    "\n",
    "# This code tests goodness of fit.\n",
    "n = 47\n",
    "\n",
    "# The method of Bak, Nielsen, and Madsen is used.\n",
    "x[:47] = [18, 22, 26, 16, 19, 21, 18, 22, 25, 31, 30, 34, 31, 25, 21, 24, 21, 28, 24, 26, 32, 33, 36, 39, 32, 33, 42, 44, 43, 48, 50, 56, 57, 59, 51, 49, 49, 57, 69, 72, 75, 76, 78, 73, 73, 75, 86]\n",
    "\n",
    "for icase in range(1, 3):\n",
    "    # Parameter icase =1 or 2 denotes SDE model 1 or 2.\n",
    "    xx = 102038.\n",
    "    m = 8\n",
    "    h = 1.0\n",
    "    omega[:m+2] = 0.0\n",
    "    kk = 4\n",
    "    akk = kk\n",
    "    h /= akk\n",
    "    for i in range(2, n):\n",
    "        xs = x[i-1]\n",
    "        xe = x[i]\n",
    "        for j in range(1, m+1):\n",
    "            xk = xs\n",
    "            for k in range(1, kk+1):\n",
    "                f, g = functs(icase, xk)\n",
    "                rand1, rand2 = random(xx)\n",
    "                xk += h*f + math.sqrt(h)*g*rand1\n",
    "            xc[i, j] = xk\n",
    "        irr = 1\n",
    "        for j in range(1, m+1):\n",
    "            xe = x[i]\n",
    "            xcalc = xc[i, j]\n",
    "            if xe > xcalc:\n",
    "                irr += 1\n",
    "        ir[i] = irr\n",
    "    for i in range(2, n):\n",
    "        irr = ir[i]\n",
    "        omega[irr] += 1.0\n",
    "    chi2 = 0.0\n",
    "    an = n\n",
    "    am = m\n",
    "    hlp = (an-1.0) / (am+1.0)\n",
    "    for j in range(1, m+2):\n",
    "        chi2 += (omega[j] - hlp)**2 / hlp\n",
    "    print(f'{icase:7d} {chi2:9.2f}')\n",
    "\n",
    "\n",
    "def functs(icase, x):\n",
    "    th1 = 3510.0\n",
    "    th2 = 13500.0\n",
    "    f = th1 / (x*x)\n",
    "    g = th2 / (x*x)\n",
    "    if icase == 1:\n",
    "        return f, g\n",
    "    th1 = .0361\n",
    "    th2 = .6090\n",
    "    f = th1 * x\n",
    "    g = math.sqrt(th2 * x)\n",
    "    return f, g\n",
    "\n",
    "\n",
    "def random(xx):\n",
    "    np.random.seed(int(xx))\n",
    "    u1, u2 = np.random.uniform(size=2)\n",
    "    u1 += 1e-10  # Add a small constant to avoid log(0)\n",
    "    hlp = math.sqrt(-2.0 * math.log(u1))\n",
    "    rand1 = hlp * math.cos(math.pi * 2.0 * u2)\n",
    "    rand2 = hlp * math.sin(math.pi * 2.0 * u2)\n",
    "    return rand1, rand2\n"
   ]
  },
  {
   "cell_type": "code",
   "execution_count": 6,
   "id": "cfc0e0a7-3df1-4856-9372-9b8b307f179a",
   "metadata": {},
   "outputs": [],
   "source": [
    "def simulate_Wiener(T, n):\n",
    "    h = float(T / n)\n",
    "    W = 0.0\n",
    "    x = [0.0]\n",
    "    y = [W]\n",
    "    normals = np.random.normal(0, 1, n)\n",
    "    for i in range(1, n+1):\n",
    "        t = i * h\n",
    "        W += np.sqrt(h) * normals[i-1]\n",
    "        x.append(t)\n",
    "        y.append(W)\n",
    "    return x, y"
   ]
  },
  {
   "cell_type": "code",
   "execution_count": 20,
   "id": "5669ccef-1043-40c5-b13b-7d77111eed41",
   "metadata": {},
   "outputs": [
    {
     "data": {
      "image/png": "[encoded data removed]",
      "text/plain": [
       "<Figure size 640x480 with 1 Axes>"
      ]
     },
     "metadata": {},
     "output_type": "display_data"
    }
   ],
   "source": [
    "t_disc, W1 = simulate_Wiener(5, 700000)\n",
    "t_disc, W2 = simulate_Wiener(5, 700000)\n",
    "t_disc, W3 = simulate_Wiener(5, 700000)\n",
    "\n",
    "pylab.plot(t_disc, W1)\n",
    "pylab.plot(t_disc, W2)\n",
    "pylab.plot(t_disc, W3)\n",
    "\n",
    "pylab.grid(True)\n",
    "pylab.show()"
   ]
  },
  {
   "cell_type": "code",
   "execution_count": null,
   "id": "45731050-83cf-4cc6-998d-4cdf921074c6",
   "metadata": {},
   "outputs": [],
   "source": [
    "def Euler_Mayorama(k, X_0, T, N, w):\n",
    "    p = int((N/k)+1)\n",
    "    w = w[::k]\n",
    "    x = np.zeros(p)\n",
    "    y = np.zeros(p)\n",
    "    x[0] = 0\n",
    "    y[0] = x_0\n",
    "    h = T/(p-1)\n",
    "    for i in range(1, p):\n",
    "    deltaW = w[i]-w[i-1]\n",
    "    x[i] = x[i-1]+h\n",
    "    y[i] = y[i-1]+a(y[i-1])*h+b(y[i-1])*deltaW\n",
    "    return x, y"
   ]
  },
  {
   "cell_type": "code",
   "execution_count": null,
   "id": "339d6ad2-9a29-4b61-8657-6d3bac299a67",
   "metadata": {},
   "outputs": [],
   "source": [
    "def euler_mayurama_complex(\n",
    "        f, g, x0, m, h, steps_per_sample, n_samples, include_initial=False):\n",
    "    \"\"\"\n",
    "    Evaluate the Ito-SDE\n",
    "\n",
    "    .. math::\n",
    "\n",
    "        dx = f(x,t)dt + g(x,t)dA_t\n",
    "\n",
    "    using an Euler-Mayurama scheme with fixed stepsize $h$.\n",
    "\n",
    "    Args:\n",
    "        f: function for drift term\n",
    "        g: function for diffusion term\n",
    "        x0: initial value\n",
    "        m: number of complex noises\n",
    "        steps_per_sample: The number of $h$-sized steps between samples\n",
    "        n_samples: the total number of integration steps\n",
    "        include_initial: whether or not to include the initial value (and time)\n",
    "            in the output.\n",
    "\n",
    "    Returns:\n",
    "        a tuple ``(times, xs, dAs)``, where ``times`` is an array of times at\n",
    "        which x is evaluated, ``xs`` is $x$ at different times, and ``dAs`` are\n",
    "        the noise increments for the time interval $[t, t+h)$\n",
    "    \"\"\"\n",
    "    times = np.zeros(n_samples + 1)\n",
    "    xs = np.zeros((n_samples + 1, x0.shape[0]), dtype=complex)\n",
    "    xs[0] = x0\n",
    "    dAs = np.zeros((n_samples + 1, m), dtype=complex)\n",
    "    x = np.array(x0, dtype=complex)\n",
    "    t = 0.\n",
    "    for nn in range(n_samples):\n",
    "        dA = (np.random.randn(steps_per_sample, m) * np.sqrt(h) +\n",
    "              (np.sqrt(h) * 1j) * np.random.randn(steps_per_sample, m))\n",
    "\n",
    "        def update_step(x_t, dAt):\n",
    "            return (x_t[0] + f(*x_t) * h + g(*x_t).dot(dAt), x_t[1]+h)\n",
    "\n",
    "        # for mm in range(steps_per_sample):\n",
    "        #     x += f(x, t) * h + g(x, t).dot(dA[mm])\n",
    "        #     t += h\n",
    "        # print(\".\",)\n",
    "        x, t = reduce(update_step, dA, (x, t))\n",
    "        times[nn+1] = t\n",
    "        xs[nn+1] = x\n",
    "        dAs[nn+1] = dA.sum(axis=0)\n",
    "\n",
    "    if not include_initial:\n",
    "        return times[1:], xs[1:], dAs[1:]\n",
    "\n",
    "    return times, xs, dAs"
   ]
  },
  {
   "cell_type": "code",
   "execution_count": null,
   "id": "3bd8ceec-2839-4b4a-be4c-cc23270f35a2",
   "metadata": {},
   "outputs": [],
   "source": [
    "mu = 2\n",
    "sigma = 4"
   ]
  }
 ],
 "metadata": {
  "kernelspec": {
   "display_name": "Python 3 (ipykernel)",
   "language": "python",
   "name": "python3"
  },
  "language_info": {
   "codemirror_mode": {
    "name": "ipython",
    "version": 3
   },
   "file_extension": ".py",
   "mimetype": "text/x-python",
   "name": "python",
   "nbconvert_exporter": "python",
   "pygments_lexer": "ipython3",
   "version": "3.9.15"
  }
 },
 "nbformat": 4,
 "nbformat_minor": 5
}
